{
 "cells": [
  {
   "cell_type": "markdown",
   "metadata": {},
   "source": [
    "<img src=\"http://imgur.com/1ZcRyrc.png\" style=\"float: left; margin: 20px; height: 55px\">\n",
    "\n",
    "# Project 1: Python Coding Exercises\n",
    "\n",
    "_Authors: Joseph Nelson (DC) _\n",
    "\n",
    "---"
   ]
  },
  {
   "cell_type": "markdown",
   "metadata": {},
   "source": [
    "The following code challenges are drawn from common exercises used in technical interviews.\n",
    "\n",
    "Please note that there may be several ways to approach each challenge. If you get stuck, try mapping out your approach in pseudocode first. Finally, while solutions to problems like these may be found online, remember that if you copy/paste code that you can't explain, you'll be missing out on the point of the project. The only way to truly learn a new skill is through practice, trial, and error - we can only help you improve by understanding where you are having trouble."
   ]
  },
  {
   "cell_type": "markdown",
   "metadata": {},
   "source": [
    "### Challenge 1: Largest Palindrome\n",
    "A palindromic number reads the same both ways. For example, 1234321 is a palindrome. The largest palindrome made from the product of two two-digit numbers is 9009 = 91 × 99. Find the largest palindrome made from the product of two three-digit numbers. Afterward, write a brief explanation walking through your code's logic in markdown."
   ]
  },
  {
   "cell_type": "code",
   "execution_count": 1,
   "metadata": {},
   "outputs": [
    {
     "name": "stdout",
     "output_type": "stream",
     "text": [
      "906609\n",
      "993\n",
      "913\n"
     ]
    }
   ],
   "source": [
    "\n",
    "js = range(999,99,-1) # All the three digit number starting from the biggest number\n",
    "ks = js\n",
    "new_max = 0 # This line initializes is the variable that will contain the largest palidromic number found so far \n",
    "blank = '' # This is a blank string on which we can use the join method to test if our product is a palindrome\n",
    "for j in js: # We loop thorugh js\n",
    "    for k in ks: # for each j, we loop thorugh all ks\n",
    "        test_num = j*k # The product of the latest j/k pair\n",
    "        reversed_test_num = blank.join(reversed(str(test_num))) # Reverse the product\n",
    "        if str(test_num) == reversed_test_num and test_num > new_max: # Test if a palidrome and bigger than the last found   \n",
    "            new_max = test_num # we declare a new palindromic, product maximum\n",
    "            num1 = j # save the j that produced the current maximum palidromic product\n",
    "            num2 = k # save the j that produced the current maximum palidromic product\n",
    "                \n",
    "print(new_max) # print the maximum palidromic product of two three digit numbers\n",
    "print(num1) # print the first number that produced the product\n",
    "print(num2) # print the second number that produced the product\n",
    "            \n",
    "    "
   ]
  },
  {
   "cell_type": "markdown",
   "metadata": {},
   "source": [
    "First, four variables are declared. The first two, js and ks are range objects containing all the three digit integers, starting from the biggest. The product of both of these three digit numbers will be tested to meet the target criteria. The next is a variable 'new_max', which is initialized to 0 and will contain the maximum palindromic product found so far. the last is a blank string that will allow for easier palindrome testing of the j and k products.\n",
    "\n",
    "Next, each three digit number, j, is looped through and multiplied by each of the three digit numbers, k. The product of the latest j and k pair is contained in the variable 'test_num'. The reverse of 'test_num' is stored in 'reversed_test_num'. This variable is created by casting the integer 'test_num' as a string so that it can be used as an argument in the 'reversed' function. Because the reversed function returns a reverse object, it cannot be directly compared to 'test_num' to check if it is a palindrome. The join method accepts the reverse object as an argument and, when applied to a string (in this case, 'blank'), will return a string we are calling 'reversed_test_num.'\n",
    "\n",
    "The palindrome test checks that 'reversed_test_num' and 'test_num' are the same. It must meet this requirement as well as be larger than the last largest palindromic product. If it meets both these criteria, the next block is executed which declares a new palindromic maximum, 'new_max' and saves the j and k values that produced it. All three of these values are printed in the end.     \n"
   ]
  },
  {
   "cell_type": "markdown",
   "metadata": {},
   "source": [
    "\n",
    "### Challenge 2: Summation of Primes\n",
    "The sum of the primes below 10 is 2 + 3 + 5 + 7 = 17. Find the sum of all the primes below 2,000. Afterward, write a brief explanation walking through your code's logic in markdown."
   ]
  },
  {
   "cell_type": "code",
   "execution_count": 2,
   "metadata": {},
   "outputs": [
    {
     "name": "stdout",
     "output_type": "stream",
     "text": [
      "277050\n"
     ]
    }
   ],
   "source": [
    "\n",
    "js = list(range(1,2000,2)) # start from 1 and skip even numbers because they cannot be prime\n",
    "test = False\n",
    "primes = [2] # initialize the list that will contain primes under 2000 with 2, because 2 is the smallest prime number\n",
    "for j in js:\n",
    "    for i in range(2,j):\n",
    "        test =  False\n",
    "        if j%i: #Test if a remainder exists. If so, it is possible that the number is prime. If no remainder exists, it is not.\n",
    "            test = True #keep test true because it is still possible that this number may be prime.\n",
    "        else:\n",
    "            break #stop looping if we else this block, because the number cannot be prime\n",
    "    if test == True:\n",
    "        primes.append(j) # append the list if test is still true, confirming the number is onlt divisible by itself and 1.\n",
    "\n",
    "primes_sum = sum(primes)\n",
    "print(primes_sum)\n",
    "#print(primes)"
   ]
  },
  {
   "cell_type": "markdown",
   "metadata": {},
   "source": [
    "A variable, 'js' contains all the integers less than 2000. For each 'j', all the integers between 3 and 'j' exclusive are tested for divisibility using the modulo operator. The truth of the variable 'test' indicates if the number 'j' is prime. The 'primes' list, initialized with the smallest prime 2, is appended when the 'j' being tested is prime. When the loop is complete, the contents of 'primes' are summed to give the desired result."
   ]
  },
  {
   "cell_type": "markdown",
   "metadata": {},
   "source": [
    "### Challenge 3: Multiples of 3 and 5\n",
    "If we list all of the natural numbers below 10 that are multiples of 3 or 5, we get 3, 5, 6, and 9. The sum of these multiples is 23. Find the sum of all the multiples of 3 or 5 below 1,000. Afterward, write a brief explanation walking through your code's logic in markdown."
   ]
  },
  {
   "cell_type": "code",
   "execution_count": 3,
   "metadata": {},
   "outputs": [],
   "source": [
    "import pandas as pd"
   ]
  },
  {
   "cell_type": "code",
   "execution_count": 4,
   "metadata": {},
   "outputs": [
    {
     "name": "stdout",
     "output_type": "stream",
     "text": [
      "num    233168\n",
      "dtype: int64\n"
     ]
    }
   ],
   "source": [
    "nat_nums = pd.DataFrame(list(range(1,1000)), columns = ['num'])\n",
    "nat_num_sum = (nat_nums[(nat_nums['num']%3==0) | (nat_nums['num']%5==0)]).sum()\n",
    "print(nat_num_sum)"
   ]
  },
  {
   "cell_type": "markdown",
   "metadata": {},
   "source": [
    "The variable 'nat_nums' contains all natural numbers less than 1000 and is sliced according to the target criteria that the numbers to be summed must be divisible by 3 or 5 (that the modulo of 3 or 5 is 0). The resulting list is summed to give the desired result."
   ]
  },
  {
   "cell_type": "markdown",
   "metadata": {},
   "source": [
    "### Challenge 4: String Compressor\n",
    "Implement a method to perform basic string compression using the counts of repeated characters. (This is called run-length encoding.) For example, the string \"aabcccccaaa\" would become a2b1c5a3. If the “compressed” string would not become smaller than the original string, your method should return the original string. You can assume the string has only uppercase and lowercase letters (a–z). Specify whether your solution is case sensitive or case insensitive and what you would need to change to make it the other. Afterward, write a brief explanation walking through your code's logic in markdown."
   ]
  },
  {
   "cell_type": "code",
   "execution_count": 5,
   "metadata": {},
   "outputs": [],
   "source": [
    "def string_length_encoder(string):\n",
    "    last_char = 'something impossible' #a word to initialize the first char checj that will not equal the first char\n",
    "    total_count = 0\n",
    "    i=0\n",
    "    compressed = []\n",
    "    for char in string: # loop through each char in the input string\n",
    "        count = 0\n",
    "        if char == last_char: # Test to see if this char has already been counted\n",
    "            i=i+1\n",
    "            continue\n",
    "        else:\n",
    "            last_char = char\n",
    "            i=total_count-1 # Point the index indicator back to the correct position (char's position)\n",
    "            try:\n",
    "                while char == string[i+1]: #Test if the character is repeated\n",
    "                    count = count+1 # increment the chracter counter if it is a repeat\n",
    "                    i=i+1 # adjust the index to test the next character\n",
    "            except IndexError:\n",
    "                pass\n",
    "            compressed.append(char)\n",
    "            compressed.append(str(count)) # append count as a string to be able to use the join method on it later\n",
    "            total_count = count+total_count # count how far aloing we have gone through the input string\n",
    "    compressed = ''.join(compressed) # join the list of chracters into a single string\n",
    "    if len(string)<len(compressed): # compare lengths of the compressed and original string and return the shorter\n",
    "        return string\n",
    "    else:\n",
    "        return compressed"
   ]
  },
  {
   "cell_type": "code",
   "execution_count": 6,
   "metadata": {},
   "outputs": [
    {
     "data": {
      "text/plain": [
       "'a2b1c5a3'"
      ]
     },
     "execution_count": 6,
     "metadata": {},
     "output_type": "execute_result"
    }
   ],
   "source": [
    "string_length_encoder('aabcccccaaa')"
   ]
  },
  {
   "cell_type": "markdown",
   "metadata": {},
   "source": [
    "This code is case sensitive. To make it case insensitive, the line 'string = string.lower()' can be inserted as the first line in the function block. This will make the input string entirely lowercase.\n",
    "\n",
    "Each character, 'char.' of the input string, 'string,' is looped through, testing if that character is the same as the last character counted ('last_char'). This character is skipped in the loop if so. For each new character, a while loop is used to test if the current character is the same as the next character in 'string.' The relevant index is tracked in the counter variable, 'i.' At the end of each loop of a new character, the list containing the desired result is appended with the character and its count. The while loop is placed in a try/except block to catch the IndexError expected in the edge case where the index 'i+1' does not exist.\n",
    "\n",
    "The list is joined into a  string using the join method. The length of this new string is compared against the original string and is returned only if it is shorter than the original."
   ]
  },
  {
   "cell_type": "markdown",
   "metadata": {},
   "source": [
    "### Challenge 5: FizzBuzz\n",
    "\n",
    "Write a program that prints all of the numbers from 1 to 100. For multiples of 3, instead of the number, print \"Fizz;\" for multiples of 5, print \"Buzz.\" For numbers that are multiples of both 3 and 5, print \"FizzBuzz.\" Afterward, write a brief explanation walking through your code's logic in markdown."
   ]
  },
  {
   "cell_type": "code",
   "execution_count": 7,
   "metadata": {
    "scrolled": true
   },
   "outputs": [
    {
     "name": "stdout",
     "output_type": "stream",
     "text": [
      "1\n",
      "2\n",
      "Fizz\n",
      "4\n",
      "Buzz\n",
      "Fizz\n",
      "7\n",
      "8\n",
      "Fizz\n",
      "Buzz\n",
      "11\n",
      "Fizz\n",
      "13\n",
      "14\n",
      "Fizzbuzz\n",
      "16\n",
      "17\n",
      "Fizz\n",
      "19\n",
      "Buzz\n",
      "Fizz\n",
      "22\n",
      "23\n",
      "Fizz\n",
      "Buzz\n",
      "26\n",
      "Fizz\n",
      "28\n",
      "29\n",
      "Fizzbuzz\n",
      "31\n",
      "32\n",
      "Fizz\n",
      "34\n",
      "Buzz\n",
      "Fizz\n",
      "37\n",
      "38\n",
      "Fizz\n",
      "Buzz\n",
      "41\n",
      "Fizz\n",
      "43\n",
      "44\n",
      "Fizzbuzz\n",
      "46\n",
      "47\n",
      "Fizz\n",
      "49\n",
      "Buzz\n",
      "Fizz\n",
      "52\n",
      "53\n",
      "Fizz\n",
      "Buzz\n",
      "56\n",
      "Fizz\n",
      "58\n",
      "59\n",
      "Fizzbuzz\n",
      "61\n",
      "62\n",
      "Fizz\n",
      "64\n",
      "Buzz\n",
      "Fizz\n",
      "67\n",
      "68\n",
      "Fizz\n",
      "Buzz\n",
      "71\n",
      "Fizz\n",
      "73\n",
      "74\n",
      "Fizzbuzz\n",
      "76\n",
      "77\n",
      "Fizz\n",
      "79\n",
      "Buzz\n",
      "Fizz\n",
      "82\n",
      "83\n",
      "Fizz\n",
      "Buzz\n",
      "86\n",
      "Fizz\n",
      "88\n",
      "89\n",
      "Fizzbuzz\n",
      "91\n",
      "92\n",
      "Fizz\n",
      "94\n",
      "Buzz\n",
      "Fizz\n",
      "97\n",
      "98\n",
      "Fizz\n",
      "Buzz\n"
     ]
    }
   ],
   "source": [
    "nums = range(1,101) # all integers 1-100\n",
    "for num in nums: # loop through each\n",
    "    if (num%3==0) & (num%5==0): # Test for divisibility of both 3 and 5 first\n",
    "        print('Fizzbuzz')\n",
    "    elif num%3 == 0: # Test for divisibility of both 3 as an else if, so as not to print Fizz and Fizzbuzz for the same value\n",
    "        print('Fizz')\n",
    "    elif num%5 == 0:\n",
    "        print('Buzz')\n",
    "    else:\n",
    "        print(num) # print the number if it is not divisible by 3 or 5."
   ]
  },
  {
   "cell_type": "markdown",
   "metadata": {},
   "source": [
    "Looping through all the numbers 1 through 100, each is tested for divisibility first by 3 and 5. If these criteria are not met, the divisibility by 3 is tested. If this proves false, the divisibility by 5 is tested. The divisibility by 3 and 5 must be tested for first followed by else if blocks for testing the divisibility of 3 and 5 individually so that 'FizzBuzz' can be returned instead of just 'Fizz' or 'Buzz'."
   ]
  },
  {
   "cell_type": "code",
   "execution_count": 8,
   "metadata": {
    "scrolled": true
   },
   "outputs": [
    {
     "name": "stdout",
     "output_type": "stream",
     "text": [
      "[1, 2, 'Fizz', 4, 'Buzz', 'Fizz', 7, 8, 'Fizz', 'Buzz', 11, 'Fizz', 13, 14, 'FizzBuzz', 16, 17, 'Fizz', 19, 'Buzz', 'Fizz', 22, 23, 'Fizz', 'Buzz', 26, 'Fizz', 28, 29, 'FizzBuzz', 31, 32, 'Fizz', 34, 'Buzz', 'Fizz', 37, 38, 'Fizz', 'Buzz', 41, 'Fizz', 43, 44, 'FizzBuzz', 46, 47, 'Fizz', 49, 'Buzz', 'Fizz', 52, 53, 'Fizz', 'Buzz', 56, 'Fizz', 58, 59, 'FizzBuzz', 61, 62, 'Fizz', 64, 'Buzz', 'Fizz', 67, 68, 'Fizz', 'Buzz', 71, 'Fizz', 73, 74, 'FizzBuzz', 76, 77, 'Fizz', 79, 'Buzz', 'Fizz', 82, 83, 'Fizz', 'Buzz', 86, 'Fizz', 88, 89, 'FizzBuzz', 91, 92, 'Fizz', 94, 'Buzz', 'Fizz', 97, 98, 'Fizz', 'Buzz']\n"
     ]
    }
   ],
   "source": [
    "nums = pd.DataFrame(list(range(1,101)),columns = ['num'])\n",
    "threes = nums['num'][nums['num']%3 == 0] # DataFrame containing all the integers 1 - 100 divisible by 3\n",
    "fives = nums['num'][nums['num']%5 == 0] # DataFrame containing all the integers 1 - 100 divisible by 5\n",
    "both = nums['num'][(nums['num']%3 == 0) & (nums['num']%5 == 0)] # DataFrame with all the integers 1 - 100 divisible by 3 and 5\n",
    "\n",
    "fb_list = nums['num'].replace(both,'FizzBuzz') #\n",
    "fb_list = fb_list.replace(threes,'Fizz')\n",
    "fb_list = fb_list.replace(fives,'Buzz')\n",
    "print(list(fb_list))"
   ]
  },
  {
   "cell_type": "markdown",
   "metadata": {},
   "source": [
    "A one dimensional DataFrame containing all the integers 1 through 100 is filtered by its divisibility by 3, 5 and both 3 and five. The replace method is used on the original 'nums' DataFrame to replace the appropriate values in the list with 'Fizz', 'Buzz' or 'FizzBuzz' based on the filtered DataFrames 'threes', 'fives' and 'both' created earlier. The 'both' replace is done first to prevent replacing numbers divisible by both 3 and 5 with the single 'Fizz' or 'Buzz.'"
   ]
  }
 ],
 "metadata": {
  "anaconda-cloud": {},
  "kernelspec": {
   "display_name": "Python 3",
   "language": "python",
   "name": "python3"
  },
  "language_info": {
   "codemirror_mode": {
    "name": "ipython",
    "version": 3
   },
   "file_extension": ".py",
   "mimetype": "text/x-python",
   "name": "python",
   "nbconvert_exporter": "python",
   "pygments_lexer": "ipython3",
   "version": "3.6.5"
  }
 },
 "nbformat": 4,
 "nbformat_minor": 2
}
